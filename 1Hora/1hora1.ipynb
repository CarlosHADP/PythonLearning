{
 "cells": [
  {
   "cell_type": "code",
   "execution_count": null,
   "metadata": {},
   "outputs": [],
   "source": [
    "print('name')"
   ]
  },
  {
   "cell_type": "code",
   "execution_count": null,
   "metadata": {},
   "outputs": [],
   "source": [
    "age = 21\n",
    "age += 1\n",
    "print(age)"
   ]
  },
  {
   "cell_type": "code",
   "execution_count": null,
   "metadata": {},
   "outputs": [],
   "source": [
    "print('Your age is: '+ str(age))"
   ]
  },
  {
   "cell_type": "code",
   "execution_count": null,
   "metadata": {},
   "outputs": [],
   "source": [
    "boolean = False\n",
    "#print(type(boolean))\n",
    "print('Are u a human? '+str(boolean))\n"
   ]
  },
  {
   "cell_type": "code",
   "execution_count": null,
   "metadata": {},
   "outputs": [],
   "source": [
    "name, age, attractive = 'Bro', 21, True"
   ]
  },
  {
   "cell_type": "code",
   "execution_count": null,
   "metadata": {},
   "outputs": [],
   "source": [
    "#Mano = 20\n",
    "#aninho = 20\n",
    "#Maneiro = 20 \n",
    "#Maguinho = 20 \n",
    "Mano = Maneiro = Maguinho = Maninho = 20\n",
    "print(Mano)\n",
    "print(Maneiro)\n",
    "print(Maninho)\n",
    "print(Maguinho)"
   ]
  },
  {
   "cell_type": "code",
   "execution_count": null,
   "metadata": {},
   "outputs": [],
   "source": [
    "name = 'BroCode'\n",
    "name = name.lower()\n",
    "#print(len(name))\n",
    "#print(name.find('o'))\n",
    "#print(name.upper())\n",
    "#print(name.lower())\n",
    "#print(name.isdigit())\n",
    "#print(name.isalpha())\n",
    "#print(name.count('o'))\n",
    "#print(name.replace('o', 'a'))\n",
    "#print(name*3)\n",
    "\n",
    "\n"
   ]
  },
  {
   "cell_type": "code",
   "execution_count": null,
   "metadata": {},
   "outputs": [],
   "source": [
    "x = 1\n",
    "y = 2.0\n",
    "z = '3'\n",
    "\n",
    "y = str(y)\n",
    "x = str(x)\n",
    "z = str(z)\n",
    "print('X is '+ x)\n",
    "print(y)\n",
    "print(z*3)"
   ]
  },
  {
   "cell_type": "code",
   "execution_count": null,
   "metadata": {},
   "outputs": [],
   "source": [
    "name = input('What is your name: ')\n",
    "age = int(input('What is your age?'))\n",
    "height = float(input('How tall are you? '))\n",
    "\n",
    "print('Hello '+name+ ' You are '+str(age)+ ' years old')\n",
    "print('Your '+str(height))"
   ]
  },
  {
   "cell_type": "code",
   "execution_count": 2,
   "metadata": {},
   "outputs": [
    {
     "name": "stdout",
     "output_type": "stream",
     "text": [
      "3\n"
     ]
    }
   ],
   "source": [
    "import math \n",
    "\n",
    "pi = 3.14\n",
    "x = 1\n",
    "y = 2\n",
    "z = 3\n",
    "#print(round(pi))\n",
    "#print(math.ceil(pi))\n",
    "#print(math.floor(pi))\n",
    "#print(abs(pi))\n",
    "#print(pow(pi,2))\n",
    "#print(math.sqrt(144))\n",
    "#print(max(x,y,z))\n",
    "#print(min(x,y,z))"
   ]
  },
  {
   "cell_type": "code",
   "execution_count": null,
   "metadata": {},
   "outputs": [],
   "source": [
    "#name = 'Carlos Henrique'\n",
    "#first_name = name[:6]\n",
    "#last_name = name[7:]\n",
    "#funky_name = name[::2]\n",
    "#reversed_name = name[::-1]\n",
    "#print(reversed_name)\n",
    "\n",
    "website = 'https://google.com'\n",
    "\n",
    "sliced = slice(7,-4)\n",
    "print(website[sliced])\n"
   ]
  },
  {
   "cell_type": "code",
   "execution_count": null,
   "metadata": {},
   "outputs": [],
   "source": [
    "rows = int(input('How many rows'))\n",
    "cols = int(input('How many cols:'))\n",
    "symbol = input('Digit a symbol:')\n",
    "\n",
    "for i in range(rows):\n",
    "    for j in range(cols):\n",
    "        print(symbol, end=\"\")\n",
    "    print()"
   ]
  },
  {
   "cell_type": "code",
   "execution_count": null,
   "metadata": {},
   "outputs": [],
   "source": [
    "\n",
    "   \n"
   ]
  }
 ],
 "metadata": {
  "kernelspec": {
   "display_name": "Python 3",
   "language": "python",
   "name": "python3"
  },
  "language_info": {
   "codemirror_mode": {
    "name": "ipython",
    "version": 3
   },
   "file_extension": ".py",
   "mimetype": "text/x-python",
   "name": "python",
   "nbconvert_exporter": "python",
   "pygments_lexer": "ipython3",
   "version": "3.9.1"
  }
 },
 "nbformat": 4,
 "nbformat_minor": 2
}
