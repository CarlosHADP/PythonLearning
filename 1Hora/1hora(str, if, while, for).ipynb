{
 "cells": [
  {
   "cell_type": "code",
   "execution_count": null,
   "metadata": {},
   "outputs": [],
   "source": [
    "print('name')"
   ]
  },
  {
   "cell_type": "code",
   "execution_count": 2,
   "metadata": {},
   "outputs": [
    {
     "name": "stdout",
     "output_type": "stream",
     "text": [
      "22\n"
     ]
    }
   ],
   "source": [
    "age = 21\n",
    "age += 1\n",
    "print(age)"
   ]
  },
  {
   "cell_type": "code",
   "execution_count": null,
   "metadata": {},
   "outputs": [],
   "source": [
    "print('Your age is: '+ str(age))"
   ]
  },
  {
   "cell_type": "code",
   "execution_count": 1,
   "metadata": {},
   "outputs": [
    {
     "name": "stdout",
     "output_type": "stream",
     "text": [
      "Are u a human? False\n"
     ]
    }
   ],
   "source": [
    "boolean = False\n",
    "#print(type(boolean))\n",
    "print('Are u a human? '+str(boolean))\n"
   ]
  },
  {
   "cell_type": "code",
   "execution_count": null,
   "metadata": {},
   "outputs": [],
   "source": [
    "name, age, attractive = 'Bro', 21, True"
   ]
  },
  {
   "cell_type": "code",
   "execution_count": null,
   "metadata": {},
   "outputs": [],
   "source": [
    "#Mano = 20\n",
    "#aninho = 20\n",
    "#Maneiro = 20 \n",
    "#Maguinho = 20 \n",
    "Mano = Maneiro = Maguinho = Maninho = 20\n",
    "print(Mano)\n",
    "print(Maneiro)\n",
    "print(Maninho)\n",
    "print(Maguinho)"
   ]
  },
  {
   "cell_type": "code",
   "execution_count": null,
   "metadata": {},
   "outputs": [],
   "source": [
    "name = 'BroCode'\n",
    "name = name.lower()\n",
    "#print(len(name))\n",
    "#print(name.find('o'))\n",
    "#print(name.upper())\n",
    "#print(name.lower())\n",
    "#print(name.isdigit())\n",
    "#print(name.isalpha())\n",
    "#print(name.count('o'))\n",
    "#print(name.replace('o', 'a'))\n",
    "#print(name*3)\n",
    "\n",
    "\n"
   ]
  },
  {
   "cell_type": "code",
   "execution_count": null,
   "metadata": {},
   "outputs": [],
   "source": [
    "x = 1\n",
    "y = 2.0\n",
    "z = '3'\n",
    "\n",
    "y = str(y)\n",
    "x = str(x)\n",
    "z = str(z)\n",
    "print('X is '+ x)\n",
    "print(y)\n",
    "print(z*3)"
   ]
  },
  {
   "cell_type": "code",
   "execution_count": null,
   "metadata": {},
   "outputs": [],
   "source": [
    "name = input('What is your name: ')\n",
    "age = int(input('What is your age?'))\n",
    "height = float(input('How tall are you? '))\n",
    "\n",
    "print('Hello '+name+ ' You are '+str(age)+ ' years old')\n",
    "print('Your '+str(height))"
   ]
  },
  {
   "cell_type": "code",
   "execution_count": null,
   "metadata": {},
   "outputs": [],
   "source": [
    "import math \n",
    "\n",
    "pi = 3.14\n",
    "x = 1\n",
    "y = 2\n",
    "z = 3\n",
    "\n",
    "#print(round(pi))\n",
    "#print(math.ceil(pi))\n",
    "#print(math.floor(pi))\n",
    "#print(abs(pi))\n",
    "#print(pow(pi,2))\n",
    "#print(math.sqrt(144))\n",
    "#print(max(x,y,z))\n",
    "#print(min(x,y,z))"
   ]
  },
  {
   "cell_type": "code",
   "execution_count": 3,
   "metadata": {},
   "outputs": [
    {
     "name": "stdout",
     "output_type": "stream",
     "text": [
      "google\n",
      "wikipedia\n"
     ]
    }
   ],
   "source": [
    "#name = 'Carlos Henrique'\n",
    "#first_name = name[:6]\n",
    "#last_name = name[7:]\n",
    "#funky_name = name[::2]\n",
    "#reversed_name = name[::-1]\n",
    "#print(reversed_name)\n",
    "\n",
    "website1 = 'https://google.com'\n",
    "website2 = 'https://wikipedia.com'\n",
    "sliced = slice(8,-4)\n",
    "print(website1[sliced])\n",
    "print(website2[sliced])"
   ]
  },
  {
   "cell_type": "code",
   "execution_count": 10,
   "metadata": {},
   "outputs": [
    {
     "name": "stdout",
     "output_type": "stream",
     "text": [
      "You died!\n"
     ]
    }
   ],
   "source": [
    "age = int(input('How old are u?'))\n",
    "if age == 100:\n",
    "    print('You died!')\n",
    "elif age >= 18:\n",
    "    print('You are an adult')\n",
    "elif age < 0:\n",
    "    print('You havent been born yet')\n",
    "else:\n",
    "    print('Your a child')"
   ]
  },
  {
   "cell_type": "code",
   "execution_count": 15,
   "metadata": {},
   "outputs": [
    {
     "name": "stdout",
     "output_type": "stream",
     "text": [
      "The temperature is good today\n",
      "Go outside\n"
     ]
    }
   ],
   "source": [
    "temp = int(input(\"What's the temperature outside:\"))\n",
    "\n",
    "if temp >= 0 and temp <= 30:\n",
    "    print(\"The temperature is bad today\")\n",
    "    print(\"Stay inside\")\n",
    "elif temp < 0 or temp > 30:\n",
    "    print(\"The temperature is good today\")\n",
    "    print(\"Go outside\")\n"
   ]
  },
  {
   "cell_type": "code",
   "execution_count": 18,
   "metadata": {},
   "outputs": [
    {
     "name": "stdout",
     "output_type": "stream",
     "text": [
      "Hello ca\n"
     ]
    }
   ],
   "source": [
    "#while 1==1:\n",
    "#    print(\"Help im stuck in a loop\")\n",
    "\n",
    "name = None\n",
    "\n",
    "while not name:\n",
    "    name = input(\"Enter your name:\")\n",
    "\n",
    "print(\"Hello \"+name)"
   ]
  },
  {
   "cell_type": "code",
   "execution_count": 29,
   "metadata": {},
   "outputs": [
    {
     "name": "stdout",
     "output_type": "stream",
     "text": [
      "10\n",
      "9\n",
      "8\n",
      "7\n",
      "6\n",
      "5\n",
      "4\n",
      "3\n",
      "2\n",
      "1\n",
      "happy new year\n"
     ]
    }
   ],
   "source": [
    "import time\n",
    "\n",
    "#while - ilimited\n",
    "#for - limited\n",
    "\n",
    "#for i in range(10 + 1):\n",
    "#    print(i + 1)\n",
    "\n",
    "#for i in range(50,100+1,2):\n",
    "#    print(i)\n",
    "\n",
    "#for i in \"Carlos Henrique\":\n",
    "#    print(i)\n",
    "\n",
    "#for seconds in range(10,0,-1):\n",
    "#    print(seconds)\n",
    "#    time.sleep(1)\n",
    "#print(\"happy new year\")\n"
   ]
  },
  {
   "cell_type": "code",
   "execution_count": 31,
   "metadata": {},
   "outputs": [
    {
     "name": "stdout",
     "output_type": "stream",
     "text": [
      "%%%%%%%%%%%%%%%%%%%%%%%%%"
     ]
    }
   ],
   "source": [
    "rows = int(input(\"How many rows:\"))\n",
    "columns = int(input(\"How many columns?:\"))\n",
    "symbol = input(\"Enter a symbol to use:\")\n",
    "\n",
    "for i in range(rows): \n",
    "    for j in range(columns):\n",
    "        print(symbol, end=\"\")\n",
    "    print()"
   ]
  },
  {
   "cell_type": "code",
   "execution_count": null,
   "metadata": {},
   "outputs": [],
   "source": [
    "while True:\n",
    "    "
   ]
  }
 ],
 "metadata": {
  "kernelspec": {
   "display_name": "Python 3",
   "language": "python",
   "name": "python3"
  },
  "language_info": {
   "codemirror_mode": {
    "name": "ipython",
    "version": 3
   },
   "file_extension": ".py",
   "mimetype": "text/x-python",
   "name": "python",
   "nbconvert_exporter": "python",
   "pygments_lexer": "ipython3",
   "version": "3.9.1"
  }
 },
 "nbformat": 4,
 "nbformat_minor": 2
}
