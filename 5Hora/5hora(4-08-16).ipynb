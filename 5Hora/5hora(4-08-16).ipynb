{
 "cells": [
  {
   "cell_type": "code",
   "execution_count": 3,
   "metadata": {},
   "outputs": [
    {
     "name": "stdout",
     "output_type": "stream",
     "text": [
      "This rabbit is eating a carrot\n",
      "This animal is eating\n"
     ]
    }
   ],
   "source": [
    "class Animal:\n",
    "    \n",
    "    def eat(self):\n",
    "        print('This animal is eating')\n",
    "    \n",
    "class Rabbit(Animal):\n",
    "    \n",
    "    def eat(self):\n",
    "        print('This rabbit is eating a carrot')\n",
    "\n",
    "animal = Animal()\n",
    "rabbit = Rabbit()\n",
    "rabbit.eat() # Output: This animal is eating\n",
    "animal.eat()\n"
   ]
  },
  {
   "cell_type": "code",
   "execution_count": 7,
   "metadata": {},
   "outputs": [
    {
     "name": "stdout",
     "output_type": "stream",
     "text": [
      "You start the engine\n",
      "You drive the car\n",
      "You step on the brakes\n",
      "You turn off the engine\n"
     ]
    },
    {
     "data": {
      "text/plain": [
       "<__main__.Car at 0x2348b7a5c10>"
      ]
     },
     "execution_count": 7,
     "metadata": {},
     "output_type": "execute_result"
    }
   ],
   "source": [
    "# method chaining  = calling multiply methods sequencialy\n",
    "#                     each call performs an action on the same object and returns self\n",
    "\n",
    "class Car:\n",
    "    \n",
    "    def turn_on(self):\n",
    "        print('You start the engine')\n",
    "        return self\n",
    "    \n",
    "    def drive(self):\n",
    "        print('You drive the car')\n",
    "        return self\n",
    "    \n",
    "    def brake(self):\n",
    "        print('You step on the brakes')\n",
    "        return self\n",
    "    \n",
    "    def turn_off(self):\n",
    "        print('You turn off the engine')\n",
    "        return self\n",
    "        \n",
    "car = Car()\n",
    "\n",
    "# car.turn_on().drive()\n",
    "\n",
    "# car.brake().turn_off()\n",
    "car.turn_on()\\\n",
    ".drive()\\\n",
    ".brake()\\\n",
    ".turn_off()\n"
   ]
  },
  {
   "cell_type": "code",
   "execution_count": 8,
   "metadata": {},
   "outputs": [],
   "source": [
    "# super() = Function used to give access to the methods of a parent class.\n",
    "#           Returns a temporary object of a parent class when used\n",
    "\n"
   ]
  }
 ],
 "metadata": {
  "kernelspec": {
   "display_name": "Python 3",
   "language": "python",
   "name": "python3"
  },
  "language_info": {
   "codemirror_mode": {
    "name": "ipython",
    "version": 3
   },
   "file_extension": ".py",
   "mimetype": "text/x-python",
   "name": "python",
   "nbconvert_exporter": "python",
   "pygments_lexer": "ipython3",
   "version": "3.9.1"
  }
 },
 "nbformat": 4,
 "nbformat_minor": 2
}
