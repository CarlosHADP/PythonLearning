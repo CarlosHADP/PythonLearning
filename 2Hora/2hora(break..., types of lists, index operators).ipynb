{
 "cells": [
  {
   "cell_type": "code",
   "execution_count": null,
   "metadata": {},
   "outputs": [],
   "source": [
    "# break =  Used to terminate the loop entirely\n",
    "# continue = skips to the next iteration of the loop\n",
    "# pass = does nothing, acts as a placeholder\n",
    "\n",
    "\n",
    "# break \n",
    "# while True:\n",
    "#     name = input('Enter your name:')\n",
    "#     if name != '':\n",
    "#         break\n",
    "\n",
    "\n",
    "# continue \n",
    "# phone_number = \"123-456-7890\"\n",
    "\n",
    "# for i in phone_number:\n",
    "#     if i == \"-\":\n",
    "#         continue\n",
    "#     print(i, end=\"\")\n",
    "\n",
    "\n",
    "# pass\n",
    "# for i in range(1,21):\n",
    "    \n",
    "#     if i == 13:\n",
    "#         pass\n",
    "#     else:\n",
    "#         print(i)"
   ]
  },
  {
   "cell_type": "code",
   "execution_count": null,
   "metadata": {},
   "outputs": [],
   "source": [
    "# list = used to store multiple items in a single variable \n",
    "food = [\"pizza\", \"hamburger\",\"hotdog\",\"spaghetti\", \"pepperoni\"]\n",
    "food[0] = 'sushi'\n",
    "\n",
    "# food.append(\"ice cream\")\n",
    "# food.remove(\"hotdog\")\n",
    "# food.pop()\n",
    "# food.insert(0,\"cake\")\n",
    "# food.sort()\n",
    "# food.clear()\n",
    "\n",
    "for x in food:\n",
    "    print(x)\n"
   ]
  },
  {
   "cell_type": "code",
   "execution_count": 5,
   "metadata": {},
   "outputs": [
    {
     "name": "stdout",
     "output_type": "stream",
     "text": [
      "icecream\n"
     ]
    }
   ],
   "source": [
    "# 2D lists = a list of lists\n",
    "\n",
    "drinks = [\"coffee\", \"tea\",\"soda\"]\n",
    "dinner = [\"pizza\", \"hamburger\",\"fries\"]\n",
    "dessert = [\"cake\", \"icecream\",\"coka\"]\n",
    "\n",
    "food = [drinks, dinner, dessert]\n",
    "\n",
    "print(food[2][1])"
   ]
  },
  {
   "cell_type": "code",
   "execution_count": 2,
   "metadata": {},
   "outputs": [
    {
     "name": "stdout",
     "output_type": "stream",
     "text": [
      "1\n",
      "2\n"
     ]
    }
   ],
   "source": [
    "# tuple = collection which is ordered  and unchangeable. \n",
    "#          used to group together related data\n",
    "\n",
    "student = (\"Bro\",21,\"male\")\n",
    "\n",
    "print(student.count(\"Bro\"))\n",
    "print(student.index(\"male\"))\n",
    "\n",
    "# for x in student:\n",
    "#     print(x)\n",
    "    \n",
    "if \"Bro\" in student:\n",
    "    print(\"Bro is here\")"
   ]
  },
  {
   "cell_type": "code",
   "execution_count": null,
   "metadata": {},
   "outputs": [],
   "source": [
    "# set = collection which is unoerded, unindexed. No duplicate values\n",
    "\n",
    "utensils = {\"fork\", \"spoon\", \"knife\"}\n",
    "dishes = {\"bowl\",\"plate\",\"cup\",\"knife\"}\n",
    "# utensils.add(\"napkin\")\n",
    "# utensils.remove(\"fork\")\n",
    "# utensils.clear()\n",
    "# dishes.update(utensils)\n",
    "# dinner_table = utensils.union(dishes)\n",
    "\n",
    "# print(dishes.difference(utensils))\n",
    "print(utensils.intersection(dishes))\n",
    "\n",
    "# for x in dinner_table:\n",
    "    # print(x)"
   ]
  },
  {
   "cell_type": "code",
   "execution_count": 4,
   "metadata": {},
   "outputs": [
    {
     "name": "stdout",
     "output_type": "stream",
     "text": [
      "USA Las Vegas\n",
      "India New Delhi\n",
      "Russia Moscow\n",
      "Germany Berlin\n"
     ]
    }
   ],
   "source": [
    "# dictionary = A changeable, unoerded collection of unique key: value pairs\n",
    "#              Fast because they use hashing, allow us to acces a value quickly\n",
    "\n",
    "capitals = {'USA':'Washington DC',\n",
    "            'India':'New Delhi',\n",
    "            'China':'Beijing',\n",
    "            'Russia':'Moscow'}\n",
    "\n",
    "capitals.update({'Germany':'Berlin'})\n",
    "capitals.update({'USA':'Las Vegas'})\n",
    "capitals.pop('China')\n",
    "# capitals.clear()\n",
    "# print(capitals['Germany'])\n",
    "# print(capitals.get('USA'))\n",
    "# print(capitals.keys())\n",
    "# print(capitals.values())\n",
    "# print(capitals.items())\n",
    "\n",
    "for key,value in capitals.items():\n",
    "    print(key, value)"
   ]
  },
  {
   "cell_type": "code",
   "execution_count": 2,
   "metadata": {},
   "outputs": [
    {
     "name": "stdout",
     "output_type": "stream",
     "text": [
      "code!\n",
      "!\n"
     ]
    }
   ],
   "source": [
    "# index operator [] = gives acces to a sequence's element (str, list, tuples)\n",
    "\n",
    "name = \"bro Code!\"\n",
    "\n",
    "# if(name[0].islower()):\n",
    "#     name = name.capitalize()\n",
    "\n",
    "first_name = name[:3].upper()\n",
    "last_name = name[4:].lower()\n",
    "last_character = name[-1]\n",
    "print(last_name)  \n",
    "print(last_character)"
   ]
  },
  {
   "cell_type": "code",
   "execution_count": 1,
   "metadata": {},
   "outputs": [
    {
     "name": "stdout",
     "output_type": "stream",
     "text": [
      "Hello! Bro Code\n",
      "You are 21 years old\n"
     ]
    }
   ],
   "source": [
    "# function = a block of code which is executed only when it is called\n",
    "\n",
    "def hello(first_name, last_name, age):  #\n",
    "    print(\"Hello! \"+first_name+ ' '+ last_name)\n",
    "    print(f'You are {age} years old')\n",
    "# calling the function, executing the code inside the function\n",
    "# In Python, functions can take parameters.  These are values that get passed into the function when it's called.\n",
    "my_name = \"Bro\"\n",
    "# hello(\"Bro\")\n",
    "hello(\"Bro\", \"Code\", 21)"
   ]
  }
 ],
 "metadata": {
  "kernelspec": {
   "display_name": "Python 3",
   "language": "python",
   "name": "python3"
  },
  "language_info": {
   "codemirror_mode": {
    "name": "ipython",
    "version": 3
   },
   "file_extension": ".py",
   "mimetype": "text/x-python",
   "name": "python",
   "nbconvert_exporter": "python",
   "pygments_lexer": "ipython3",
   "version": "3.9.1"
  }
 },
 "nbformat": 4,
 "nbformat_minor": 2
}
