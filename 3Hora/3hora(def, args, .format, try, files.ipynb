{
 "cells": [
  {
   "cell_type": "code",
   "execution_count": null,
   "metadata": {},
   "outputs": [],
   "source": [
    "#return statement = Functions send Python values/objects back to the caller\n",
    "#                   These values/objects are known as the function's return value\n",
    "\n",
    "def multiply(number1, number2):\n",
    "    return number1 * number2\n",
    "x =  multiply(6, 8)\n",
    "print(x)"
   ]
  },
  {
   "cell_type": "code",
   "execution_count": null,
   "metadata": {},
   "outputs": [],
   "source": [
    "# keyword arguments = arguments preceded by an identifier when we pass them to a function\n",
    "#                     The order of the arguments doesn't matter, unlike positional arguments\n",
    "#                    Python knows the names of the argument that our function receives\n",
    "\n",
    "def hello(first, middle, last):\n",
    "    print(f\"Hello {first} {middle} {last}\")\n",
    "    \n",
    "hello(last=\"Alves\", middle=\"Henrique\", first=\"Carlos\")"
   ]
  },
  {
   "cell_type": "code",
   "execution_count": null,
   "metadata": {},
   "outputs": [],
   "source": [
    "print(round(abs(float(input(\"Enter a positive number\")))))"
   ]
  },
  {
   "cell_type": "code",
   "execution_count": null,
   "metadata": {},
   "outputs": [],
   "source": [
    "# scope = The region that a variable is recognized\n",
    "#         A variable is only available from inside the region it's created.\n",
    "#         A global and locally scoped versions of a variable can be created\n",
    "\n",
    "# L = Local \n",
    "# E = Enclosing \n",
    "# G = Global \n",
    "# B = Built-in\n",
    "\n",
    "name = \"Carlos\"  #Global scope (available inside & outside functions)\n",
    "\n",
    "def display_name():\n",
    "    name = \"Pinheiro\"     #local scope (available only inside this function)\n",
    "    print(name)\n",
    "    \n",
    "display_name() \n",
    "print(name) "
   ]
  },
  {
   "cell_type": "code",
   "execution_count": 3,
   "metadata": {},
   "outputs": [
    {
     "name": "stdout",
     "output_type": "stream",
     "text": [
      "20\n"
     ]
    }
   ],
   "source": [
    "# *args = parameter that will pack all arguments into a tuple \n",
    "#         useful so that a function can accept a varying amount of arguments\n",
    "\n",
    "def add(*stuff): #stuff is now a tuple containing the elements passed to the function\n",
    "    sum = 0 \n",
    "    stuff = list(stuff) # convert the tuple to a list, because lists are mutable and tuples aren't.\n",
    "    stuff[0] = 0 # set first element of list to zero (this changes the original tuple too!)\n",
    "    for i in stuff: #  loop through each element in the list and add it to the sum\n",
    "        sum += i # add each element to the total sum\n",
    "    return sum # return the final sum\n",
    "\n",
    "print(add(1,2,3,4,5,6))   "
   ]
  },
  {
   "cell_type": "code",
   "execution_count": null,
   "metadata": {},
   "outputs": [],
   "source": [
    "# **kwargs = parameter that will pack all arguments into a dictionary\n",
    "#            useful that a function can accept a varying amount of keyword arguments\n",
    "\n",
    "def hello(**names):\n",
    "    print(\"Hello\",end=' ')\n",
    "    for key,value in names.items(): #iterate over the items of the dictionary\n",
    "        print(value, end=' ') \n",
    "\n",
    "hello(tittle='Mr.', first='Carlos', last='Henrique')"
   ]
  },
  {
   "cell_type": "code",
   "execution_count": null,
   "metadata": {},
   "outputs": [],
   "source": [
    "#str.format()\n",
    "\n",
    "# animal = 'Cow'\n",
    "# item = 'moon'\n",
    "\n",
    "# print(\"The {} jumped over the {}\".format(animal,item))\n",
    "# print(\"The {1} jumped over the {0}\".format(animal,item))\n",
    "#print(\"The {item} jumped over the {animal}\".format(animal='cow',item='moon'))\n",
    "\n",
    "# text = \"The {} jumped over the {}\"\n",
    "# print(text.format(animal,item))"
   ]
  },
  {
   "cell_type": "code",
   "execution_count": null,
   "metadata": {},
   "outputs": [],
   "source": [
    "name = \"Bro\"\n",
    "\n",
    "print(\"Hello my name is {}\".format(name))\n",
    "print(\"Hello my name is {:10}. Nice to meet you\".format(name))\n",
    "print(\"Hello my name is {:>10}. Nice to meet you\".format(name))\n",
    "print(\"Hello my name is {:<10}. Nice to meet you\".format(name))\n",
    "print(\"Hello my name is {:^10}. Nice to meet you\".format(name))\n",
    "\n"
   ]
  },
  {
   "cell_type": "code",
   "execution_count": null,
   "metadata": {},
   "outputs": [],
   "source": [
    "number = 1000\n",
    "\n",
    "print(\"The number pi is {:.2f}\".format(number))\n",
    "print(\"The number is {:,}\".format(number))\n",
    "print(\"The number pi is {:b}\".format(number))\n",
    "print(\"The number pi is {:o}\".format(number))\n",
    "print(\"The number pi is {:X}\".format(number))\n",
    "print(\"The number pi is {:e}\".format(number))"
   ]
  },
  {
   "cell_type": "code",
   "execution_count": 1,
   "metadata": {},
   "outputs": [
    {
     "name": "stdout",
     "output_type": "stream",
     "text": [
      "[8, 5, 1, 'J', 6, 'Q', 9, 'A', 3, 4, 7, 2, 'K']\n"
     ]
    }
   ],
   "source": [
    "import random \n",
    "\n",
    "x = random.randint(1, 6)\n",
    "y = random.random()\n",
    "  \n",
    "mylist = ['rock', 'paper', 'scissors']\n",
    "z = random.choice(mylist)\n",
    "\n",
    "cards = [1,2,3,4,5,6,7,8,9,'J','Q','K','A']\n",
    "random.shuffle(cards)\n",
    "# print(x)\n",
    "# print(y)\n",
    "# print(z)\n",
    "print(cards)"
   ]
  },
  {
   "cell_type": "code",
   "execution_count": 1,
   "metadata": {},
   "outputs": [],
   "source": [
    "import random\n",
    "\n",
    "myChoice = input('Choose between Rock, Paper or Scissors')\n",
    "myList = ['Rock', 'Paper', 'Scissors']\n",
    "choice = random.choice(myList)\n",
    "true = True\n",
    "\n",
    "while True:\n",
    "        choice = random.choice(myList)\n",
    "        if choice == [0] or [1] or [2] and myChoice == 'Rock' or 'rock' or 'Paper' or 'paper' or 'Scissors' or 'scissors':\n",
    "                print('Empatamo')\n",
    "                input('Choose between Rock, Paper or Scissors')\n",
    "        elif choice == [0] and myChoice == 'Scissors' or 'scissors':\n",
    "                print('Perdi')\n",
    "                break\n",
    "        elif choice == [1] and myChoice == 'Rock' or 'rock':\n",
    "                print('Perdi')\n",
    "                break\n",
    "        elif  choice == [2] and myChoice == 'Paper' or 'paper':\n",
    "                print('Perdi')\n",
    "                break\n",
    "        else:\n",
    "                print('Acabou')\n",
    "\n",
    "       \n",
    "\n",
    "    \n",
    "        "
   ]
  },
  {
   "cell_type": "code",
   "execution_count": 7,
   "metadata": {},
   "outputs": [
    {
     "name": "stdout",
     "output_type": "stream",
     "text": [
      "2.5\n",
      "This will always execute\n"
     ]
    }
   ],
   "source": [
    "# exception events detected during execution that interrupt the flow of a program\n",
    "try:\n",
    "    numerator = int(input('Enter a number to divide:'))\n",
    "    denominator = int(input('Enter a number to divide by:'))\n",
    "    result = numerator / denominator \n",
    "except  ZeroDivisionError as e:\n",
    "    print(e)\n",
    "    print(\"You can't divide by Zero\")\n",
    "except ValueError as e:\n",
    "    print(e)\n",
    "    print(\"Enter only numbers pls\")\n",
    "except Exception as e:\n",
    "    print(e)\n",
    "    print(\"Error\")\n",
    "else:\n",
    "     print(result)\n",
    "finally:\n",
    "    print(\"This will always execute\")"
   ]
  },
  {
   "cell_type": "code",
   "execution_count": 16,
   "metadata": {},
   "outputs": [
    {
     "name": "stdout",
     "output_type": "stream",
     "text": [
      "That location exists\n",
      "Is a directory\n"
     ]
    }
   ],
   "source": [
    "import os \n",
    "\n",
    "path = \"C:\\\\Users\\\\User\\\\Desktop\\\\carlos\"\n",
    "\n",
    "if os.path.exists(path):\n",
    "    print(\"That location exists\")\n",
    "    if os.path.isfile(path):\n",
    "        print('That is a file')\n",
    "    elif os.path.isdir(path):\n",
    "        print(\"Is a directory\")\n",
    "else:\n",
    "    print(\"That location doesn't exist\")"
   ]
  },
  {
   "cell_type": "code",
   "execution_count": 19,
   "metadata": {},
   "outputs": [
    {
     "name": "stdout",
     "output_type": "stream",
     "text": [
      "abgiojijorhgijouawgiopjiopg\n"
     ]
    }
   ],
   "source": [
    "try:\n",
    "    with open('C:\\\\Users\\\\User\\\\Desktop\\\\carlos\\\\text.txt') as file:\n",
    "     print(file.read())\n",
    "except FileNotFoundError:\n",
    "    print(\"That file wasn't found\")\n",
    "    \n",
    "# print(file.closed)"
   ]
  },
  {
   "cell_type": "code",
   "execution_count": 23,
   "metadata": {},
   "outputs": [],
   "source": [
    "text = \"\\nHave a nice daY!!\"\n",
    "\n",
    "with open('text.txt','a') as file:\n",
    "    file.write(text)"
   ]
  },
  {
   "cell_type": "code",
   "execution_count": 24,
   "metadata": {},
   "outputs": [
    {
     "data": {
      "text/plain": [
       "'copy.txt'"
      ]
     },
     "execution_count": 24,
     "metadata": {},
     "output_type": "execute_result"
    }
   ],
   "source": [
    "#  copyfile() = copies contents of a file\n",
    "#  copy() =      copyfile() + permission mode + destination can be a directory\n",
    "#  copy2() =     copy() + copies metadata(file's creation and modification times)\n",
    "# src = SOURCE - dst = DESTINATION\n",
    "\n",
    "import shutil \n",
    "\n",
    "shutil.copyfile('text.txt', 'copy.txt') #(src,dst)\n"
   ]
  },
  {
   "cell_type": "code",
   "execution_count": 28,
   "metadata": {},
   "outputs": [
    {
     "name": "stdout",
     "output_type": "stream",
     "text": [
      "folderWas moved\n"
     ]
    }
   ],
   "source": [
    "import os #  for file operations\n",
    "\n",
    "source = \"folder\"\n",
    "destination = \"D:\\\\Visual Studio\\\\Pastas\\\\teste\\\\folder\"\n",
    "\n",
    "try:\n",
    "    if os.path.exists(destination):\n",
    "        print(\"That is already a file there\")\n",
    "    else: \n",
    "        os.replace(source,destination)\n",
    "        print(source+'Was moved')\n",
    "except FileNotFoundError:\n",
    "    print (source+' Source was not found')"
   ]
  },
  {
   "cell_type": "code",
   "execution_count": null,
   "metadata": {},
   "outputs": [],
   "source": []
  }
 ],
 "metadata": {
  "kernelspec": {
   "display_name": "Python 3",
   "language": "python",
   "name": "python3"
  },
  "language_info": {
   "codemirror_mode": {
    "name": "ipython",
    "version": 3
   },
   "file_extension": ".py",
   "mimetype": "text/x-python",
   "name": "python",
   "nbconvert_exporter": "python",
   "pygments_lexer": "ipython3",
   "version": "3.9.1"
  }
 },
 "nbformat": 4,
 "nbformat_minor": 2
}
